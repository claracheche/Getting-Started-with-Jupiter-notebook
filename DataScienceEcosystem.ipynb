{
 "cells": [
  {
   "cell_type": "markdown",
   "id": "f7aaaa5d-5374-49ae-aa9c-3ebda47c1dfd",
   "metadata": {},
   "source": [
    "# Data Science Tools and Ecosystem\n",
    "In this notebook, Data Science Tools and Ecosystem are summarized."
   ]
  },
  {
   "cell_type": "code",
   "execution_count": null,
   "id": "49c3811d-d041-4c66-9333-d1e4241914fe",
   "metadata": {},
   "outputs": [],
   "source": [
    "Objectives:\n",
    "- popular languages that Data Scientists use\n",
    "- commonly used libraries\n",
    "- Data Science Tools\n",
    "- evaluating arithmetic expressions\n"
   ]
  },
  {
   "cell_type": "markdown",
   "id": "7f78a810-b86a-4715-9a82-0da7f88808d9",
   "metadata": {},
   "source": [
    "Some of the popular languages that Data Scientists use are:\n",
    "1. R\n",
    "2. Python\n",
    "3. Java\n",
    "4. C++"
   ]
  },
  {
   "cell_type": "markdown",
   "id": "74323ede-41a4-49ec-b349-3d347a699f47",
   "metadata": {},
   "source": [
    "Some of the commonly used libraries used by Data Scientists include:\n",
    "1.Numpy\n",
    "2.Pandas\n",
    "3.Matplotlib \n",
    "4.Seaborn"
   ]
  },
  {
   "cell_type": "markdown",
   "id": "0ede795b-5800-4089-b573-df7e3d405d8e",
   "metadata": {},
   "source": [
    "|Data Science Tools|\n",
    "|------------------|\n",
    "| Jupyter Notebook  |\n",
    "|RStudio|\n",
    "| Visual Studio Code (VS Code)|\n",
    " |-----------------------|"
   ]
  },
  {
   "cell_type": "markdown",
   "id": "be393dca-a366-4834-a39f-062389f893c9",
   "metadata": {},
   "source": [
    "Below are a few examples of evaluating arithmetic expressions in Python\n",
    "print(1+2)\n",
    "print(2-1)\n",
    "print(3/1)\n",
    "print(10//3)\n",
    "print(10*9)"
   ]
  },
  {
   "cell_type": "code",
   "execution_count": 2,
   "id": "f8e7034e-896c-4e4b-acdb-e5e0589e5da1",
   "metadata": {},
   "outputs": [
    {
     "data": {
      "text/plain": [
       "17"
      ]
     },
     "execution_count": 2,
     "metadata": {},
     "output_type": "execute_result"
    }
   ],
   "source": [
    "(3*4)+5 # This a simple arithmetic expression to mutiply then add integers"
   ]
  },
  {
   "cell_type": "code",
   "execution_count": null,
   "id": "37bf10b8-0b5a-4581-b0fd-023f485cfe4c",
   "metadata": {},
   "outputs": [],
   "source": [
    "# 200 minutes into hours.\n",
    "200/60 # This will convert 200 minutes to hours by diving by 60."
   ]
  },
  {
   "cell_type": "markdown",
   "id": "1b985c43-c9a6-4b01-b0bd-6ec6656caa3a",
   "metadata": {},
   "source": [
    "## Author\n",
    "Clara Cherotich"
   ]
  },
  {
   "cell_type": "code",
   "execution_count": null,
   "id": "cd856599-d30c-49e4-a13b-7e2c72acd408",
   "metadata": {},
   "outputs": [],
   "source": []
  }
 ],
 "metadata": {
  "kernelspec": {
   "display_name": "anaconda-ai-2024.04-py310",
   "language": "python",
   "name": "conda-env-anaconda-ai-2024.04-py310-py"
  },
  "language_info": {
   "codemirror_mode": {
    "name": "ipython",
    "version": 3
   },
   "file_extension": ".py",
   "mimetype": "text/x-python",
   "name": "python",
   "nbconvert_exporter": "python",
   "pygments_lexer": "ipython3",
   "version": "3.10.13"
  }
 },
 "nbformat": 4,
 "nbformat_minor": 5
}
